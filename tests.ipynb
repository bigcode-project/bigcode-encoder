{
 "cells": [
  {
   "cell_type": "code",
   "execution_count": 1,
   "metadata": {},
   "outputs": [],
   "source": [
    "import torch\n",
    "from accelerate import Accelerator\n",
    "from src import datasets_loader\n",
    "from src import models\n",
    "from src.constants import GFG_DATA_PATH\n",
    "\n",
    "import sys\n",
    "\n",
    "sys.path.append(\"../\")\n",
    "\n",
    "from exp_configs import EXP_GROUPS"
   ]
  },
  {
   "cell_type": "code",
   "execution_count": 2,
   "metadata": {},
   "outputs": [],
   "source": [
    "accelerator = Accelerator()\n",
    "exp_dict = EXP_GROUPS[\"base\"][0]"
   ]
  },
  {
   "cell_type": "code",
   "execution_count": 3,
   "metadata": {},
   "outputs": [
    {
     "name": "stderr",
     "output_type": "stream",
     "text": [
      "No config specified, defaulting to: code_search_net/all\n",
      "Reusing dataset code_search_net (/mnt/colab_public/datasets/joao/CodeSearchNet/code_search_net/all/1.0.0/80a244ab541c6b2125350b764dc5c2b715f65f00de7a56107a28915fac173a27)\n"
     ]
    },
    {
     "data": {
      "application/vnd.jupyter.widget-view+json": {
       "model_id": "d3596698dc8c4ce0a0deece5b0c19327",
       "version_major": 2,
       "version_minor": 0
      },
      "text/plain": [
       "  0%|          | 0/3 [00:00<?, ?it/s]"
      ]
     },
     "metadata": {},
     "output_type": "display_data"
    },
    {
     "name": "stderr",
     "output_type": "stream",
     "text": [
      "Loading cached processed dataset at /mnt/colab_public/datasets/joao/CodeSearchNet/code_search_net/all/1.0.0/80a244ab541c6b2125350b764dc5c2b715f65f00de7a56107a28915fac173a27/cache-43e4016a25a27a85.arrow\n"
     ]
    }
   ],
   "source": [
    "# Create data loaders and model\n",
    "train_data = datasets_loader.get_dataset(\n",
    "    dataset_name=\"code_search_net\",\n",
    "    path_to_cache=\"/mnt/colab_public/datasets/joao/CodeSearchNet\",\n",
    "    split=\"train\",\n",
    "    maximum_raw_length=exp_dict[\"maximum_raw_length\"],\n",
    ")\n",
    "train_loader = torch.utils.data.DataLoader(\n",
    "    train_data,\n",
    "    batch_size=exp_dict[\"train_batch_size\"],\n",
    "    num_workers=exp_dict[\"n_workers\"],\n",
    "    collate_fn=datasets_loader.TrainCollator(\n",
    "        tokenizer_path=exp_dict[\"tokenizer_path\"],\n",
    "        maximum_length=exp_dict[\"maximum_input_length\"],\n",
    "        mlm_masking_probability=exp_dict[\"mlm_masking_probability\"],\n",
    "        contrastive_masking_probability=exp_dict[\"contrastive_masking_probability\"],\n",
    "    ),\n",
    "    drop_last=True,\n",
    ")"
   ]
  },
  {
   "cell_type": "code",
   "execution_count": 4,
   "metadata": {},
   "outputs": [
    {
     "name": "stderr",
     "output_type": "stream",
     "text": [
      "Loading cached processed dataset at resources/data/transcoder_evaluation_gfg/cache-8e11c09ed2c1f653.arrow\n"
     ]
    }
   ],
   "source": [
    "test_data = datasets_loader.get_dataset(\n",
    "    dataset_name=\"gfg\",\n",
    "    path_to_cache=GFG_DATA_PATH,\n",
    "    split=\"test\",\n",
    "    maximum_raw_length=exp_dict[\"maximum_raw_length\"],\n",
    ")\n",
    "test_loader = torch.utils.data.DataLoader(\n",
    "    test_data,\n",
    "    batch_size=exp_dict[\"train_batch_size\"],\n",
    "    num_workers=exp_dict[\"n_workers\"],\n",
    "    collate_fn=datasets_loader.TestCollator(\n",
    "        tokenizer_path=exp_dict[\"tokenizer_path\"],\n",
    "        maximum_length=exp_dict[\"maximum_input_length\"],\n",
    "    ),\n",
    "    drop_last=True,\n",
    ")"
   ]
  },
  {
   "cell_type": "code",
   "execution_count": 5,
   "metadata": {},
   "outputs": [],
   "source": [
    "exp_dict[\"vocab_size\"] = len(train_loader.collate_fn.tokenizer.vocab)"
   ]
  },
  {
   "cell_type": "code",
   "execution_count": 6,
   "metadata": {},
   "outputs": [],
   "source": [
    "train_batch = next(iter(train_loader))"
   ]
  },
  {
   "cell_type": "code",
   "execution_count": 7,
   "metadata": {},
   "outputs": [],
   "source": [
    "test_batch = next(iter(test_loader))"
   ]
  },
  {
   "cell_type": "code",
   "execution_count": 8,
   "metadata": {},
   "outputs": [],
   "source": [
    "model = models.get_model(\n",
    "        exp_dict=exp_dict,\n",
    "        accelerator=accelerator,\n",
    "    )"
   ]
  },
  {
   "cell_type": "code",
   "execution_count": null,
   "metadata": {},
   "outputs": [],
   "source": [
    "model.train_on_loader(train_loader, epoch=0)"
   ]
  },
  {
   "cell_type": "code",
   "execution_count": 10,
   "metadata": {},
   "outputs": [
    {
     "data": {
      "text/plain": [
       "{'test_contrastive_loss': 2.4658589363098145,\n",
       " 'R@1': 0.0052083334885537624,\n",
       " 'R@5': 0.0243055559694767,\n",
       " 'MRR': 0.02183467149734497}"
      ]
     },
     "execution_count": 10,
     "metadata": {},
     "output_type": "execute_result"
    }
   ],
   "source": [
    "model.eval_on_loader(test_loader)"
   ]
  }
 ],
 "metadata": {
  "interpreter": {
   "hash": "ae635839a86c404533bb974203baf1bd26d9dc49bfbf145b45e9350c30045fdd"
  },
  "kernelspec": {
   "display_name": "Python 3.9.13 64-bit ('accelerate')",
   "language": "python",
   "name": "python3"
  },
  "language_info": {
   "codemirror_mode": {
    "name": "ipython",
    "version": 3
   },
   "file_extension": ".py",
   "mimetype": "text/x-python",
   "name": "python",
   "nbconvert_exporter": "python",
   "pygments_lexer": "ipython3",
   "version": "3.9.13"
  },
  "orig_nbformat": 4
 },
 "nbformat": 4,
 "nbformat_minor": 2
}
