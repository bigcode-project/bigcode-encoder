{
 "cells": [
  {
   "cell_type": "code",
   "execution_count": 10,
   "metadata": {},
   "outputs": [],
   "source": [
    "import os\n",
    "from typing import Dict\n",
    "import torch\n",
    "from transformers import AutoModel, AutoTokenizer\n",
    "from src.constants import SEPARATOR_TOKEN, CLS_TOKEN\n",
    "from src.utils import pool_and_normalize\n",
    "from src.datasets_loader import prepare_tokenizer\n",
    "from src.preprocessing_utils import truncate_sentences\n",
    "from mteb import MTEB\n",
    "from abc import ABC, abstractmethod"
   ]
  },
  {
   "cell_type": "code",
   "execution_count": 2,
   "metadata": {},
   "outputs": [],
   "source": [
    "OUTPUT_FOLDER = \"/mnt/colab_public/datasets/joao/mteb_results/\"\n",
    "DEVICE = \"cuda:0\"\n",
    "BATCH_SIZE=32\n",
    "MAX_INPUT_LEN = 10000\n",
    "MAX_TOKEN_LEN = 1024"
   ]
  },
  {
   "cell_type": "code",
   "execution_count": 3,
   "metadata": {},
   "outputs": [],
   "source": [
    "def set_device(inputs: Dict[str, torch.Tensor], device: str) -> Dict[str, torch.Tensor]:\n",
    "    output_data = {}\n",
    "    for k, v in inputs.items():\n",
    "        output_data[k] = v.to(device)\n",
    "    \n",
    "    return output_data"
   ]
  },
  {
   "cell_type": "code",
   "execution_count": 4,
   "metadata": {},
   "outputs": [],
   "source": [
    "class BaseEncoder(torch.nn.Module, ABC):\n",
    "\n",
    "    def __init__(self, device, max_input_len, maximum_token_len, model_name):\n",
    "        super().__init__()\n",
    "\n",
    "        self.model_name = model_name\n",
    "        self.tokenizer = prepare_tokenizer(model_name)\n",
    "        self.encoder = AutoModel.from_pretrained(model_name, use_auth_token=True).to(DEVICE).eval()\n",
    "        self.device = device\n",
    "        self.max_input_len = max_input_len\n",
    "        self.maximum_token_len = maximum_token_len\n",
    "    \n",
    "    @abstractmethod\n",
    "    def forward(self,):\n",
    "        pass\n",
    "    \n",
    "    def encode(self, input_sentences, batch_size=32, **kwargs):\n",
    "\n",
    "        truncated_input_sentences = truncate_sentences(input_sentences, self.max_input_len)\n",
    "\n",
    "        n_batches = len(truncated_input_sentences) // batch_size + int(len(truncated_input_sentences) % batch_size > 0)\n",
    "\n",
    "        embedding_batch_list = []\n",
    "\n",
    "        for i in range(n_batches):\n",
    "            start_idx = i*batch_size\n",
    "            end_idx = min((i+1)*batch_size, len(truncated_input_sentences))\n",
    "\n",
    "            with torch.no_grad():\n",
    "                embedding_batch_list.append(\n",
    "                    self.forward(truncated_input_sentences[start_idx:end_idx]).detach().cpu()\n",
    "                )\n",
    "\n",
    "        input_sentences_embedding = torch.cat(embedding_batch_list)\n",
    "\n",
    "        return [emb.squeeze().numpy() for emb in input_sentences_embedding]\n",
    "\n",
    "class BigCodeEncoder(BaseEncoder):\n",
    "\n",
    "    def __init__(self, device, max_input_len, maximum_token_len):\n",
    "        super().__init__(device, max_input_len, maximum_token_len, model_name = \"bigcode/bigcode-encoder\")\n",
    "    \n",
    "    def forward(self, input_sentences):\n",
    "\n",
    "        inputs = self.tokenizer(\n",
    "            [f\"{CLS_TOKEN}{sentence}{SEPARATOR_TOKEN}\" for sentence in input_sentences], \n",
    "            padding=\"longest\",\n",
    "            max_length=self.maximum_token_len,\n",
    "            truncation=True,\n",
    "            return_tensors=\"pt\",\n",
    "            )\n",
    "\n",
    "        outputs = self.encoder(**set_device(inputs, self.device))\n",
    "        embedding = pool_and_normalize(outputs.hidden_states[-1], inputs.attention_mask)\n",
    "\n",
    "        return embedding\n",
    "\n",
    "class CodeBERT(BaseEncoder):\n",
    "\n",
    "    def __init__(self, device, max_input_len, maximum_token_len):\n",
    "        super().__init__(device, max_input_len, maximum_token_len, model_name = \"microsoft/codebert-base\")\n",
    "\n",
    "        self.tokenizer = AutoTokenizer.from_pretrained(\"microsoft/codebert-base\")\n",
    "    \n",
    "    def forward(self, input_sentences):\n",
    "\n",
    "        inputs = self.tokenizer(\n",
    "            [sentence for sentence in input_sentences], \n",
    "            padding=\"longest\",\n",
    "            max_length=self.maximum_token_len,\n",
    "            truncation=True,\n",
    "            return_tensors=\"pt\",\n",
    "            )\n",
    "\n",
    "        inputs = set_device(inputs, self.device)\n",
    "\n",
    "        outputs = self.encoder(inputs[\"input_ids\"], inputs[\"attention_mask\"])\n",
    "\n",
    "        embedding = outputs[\"pooler_output\"]\n",
    "\n",
    "        return embedding\n",
    "\n"
   ]
  },
  {
   "cell_type": "code",
   "execution_count": 5,
   "metadata": {},
   "outputs": [
    {
     "name": "stderr",
     "output_type": "stream",
     "text": [
      "Some weights of the model checkpoint at bigcode/bigcode-encoder were not used when initializing BertModel: ['cls.seq_relationship.bias', 'cls.seq_relationship.weight', 'cls.predictions.transform.LayerNorm.weight', 'cls.predictions.decoder.weight', 'cls.predictions.transform.dense.weight', 'cls.predictions.transform.LayerNorm.bias', 'cls.predictions.bias', 'cls.predictions.transform.dense.bias', 'cls.predictions.decoder.bias']\n",
      "- This IS expected if you are initializing BertModel from the checkpoint of a model trained on another task or with another architecture (e.g. initializing a BertForSequenceClassification model from a BertForPreTraining model).\n",
      "- This IS NOT expected if you are initializing BertModel from the checkpoint of a model that you expect to be exactly identical (initializing a BertForSequenceClassification model from a BertForSequenceClassification model).\n"
     ]
    }
   ],
   "source": [
    "codebert = CodeBERT(DEVICE, MAX_INPUT_LEN, MAX_TOKEN_LEN)\n",
    "bigcode_model = BigCodeEncoder(DEVICE, MAX_INPUT_LEN, MAX_TOKEN_LEN)"
   ]
  },
  {
   "cell_type": "code",
   "execution_count": 6,
   "metadata": {},
   "outputs": [],
   "source": [
    "input_sentences = [\n",
    "    \"Hello world!!\",\n",
    "    \"def my_sum(a, b): return a+b\"\n",
    "]\n",
    "\n",
    "codebert_embeddings = codebert.encode(input_sentences)\n",
    "bigcode_model_embeddings = bigcode_model.encode(input_sentences)\n"
   ]
  },
  {
   "cell_type": "code",
   "execution_count": 12,
   "metadata": {},
   "outputs": [],
   "source": [
    "# evaluation = MTEB(task_types=['Clustering', 'Retrieval'], task_categories=['s2s'])\n",
    "evaluation = MTEB(tasks=['BiorxivClusteringS2S'])"
   ]
  },
  {
   "cell_type": "code",
   "execution_count": 8,
   "metadata": {},
   "outputs": [
    {
     "data": {
      "text/plain": [
       "{'BiorxivClusteringS2S': {'mteb_version': '1.0.1',\n",
       "  'dataset_revision': '258694dd0231531bc1fd9de6ceb52a0853c6d908',\n",
       "  'mteb_dataset_name': 'BiorxivClusteringS2S',\n",
       "  'test': {'v_measure': 0.15253719531046367,\n",
       "   'v_measure_std': 0.006991505947132362,\n",
       "   'evaluation_time': 127.73}}}"
      ]
     },
     "execution_count": 8,
     "metadata": {},
     "output_type": "execute_result"
    }
   ],
   "source": [
    "results_bigcode_encoder = evaluation.run(\n",
    "    bigcode_model, \n",
    "    output_folder=os.path.join(OUTPUT_FOLDER, \"bigcode_encoder\"), \n",
    "    batch_size=BATCH_SIZE, \n",
    "    overwrite_results=True,)\n",
    "\n",
    "results_bigcode_encoder"
   ]
  },
  {
   "cell_type": "code",
   "execution_count": null,
   "metadata": {},
   "outputs": [],
   "source": [
    "results_codebert = evaluation.run(\n",
    "    codebert, \n",
    "    output_folder=os.path.join(OUTPUT_FOLDER, \"codebert\"), \n",
    "    batch_size=BATCH_SIZE, \n",
    "    overwrite_results=True,)\n",
    "\n",
    "results_codebert"
   ]
  }
 ],
 "metadata": {
  "interpreter": {
   "hash": "ae635839a86c404533bb974203baf1bd26d9dc49bfbf145b45e9350c30045fdd"
  },
  "kernelspec": {
   "display_name": "Python 3.9.13 64-bit ('accelerate')",
   "language": "python",
   "name": "python3"
  },
  "language_info": {
   "codemirror_mode": {
    "name": "ipython",
    "version": 3
   },
   "file_extension": ".py",
   "mimetype": "text/x-python",
   "name": "python",
   "nbconvert_exporter": "python",
   "pygments_lexer": "ipython3",
   "version": "3.9.13"
  },
  "orig_nbformat": 4
 },
 "nbformat": 4,
 "nbformat_minor": 2
}
