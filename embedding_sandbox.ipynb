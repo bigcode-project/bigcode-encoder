{
 "cells": [
  {
   "cell_type": "code",
   "execution_count": 2,
   "metadata": {},
   "outputs": [],
   "source": [
    "import torch\n",
    "from transformers import AutoTokenizer, AutoModelForPreTraining\n",
    "from src.constants import SEPARATOR_TOKEN, CLS_TOKEN\n",
    "from src.utils import pool_and_normalize\n",
    "from src.datasets_loader import prepare_tokenizer\n",
    "from mteb import MTEB\n",
    "# from huggingface_hub import notebook_login"
   ]
  },
  {
   "cell_type": "code",
   "execution_count": 3,
   "metadata": {},
   "outputs": [],
   "source": [
    "OUTPUT_FOLDER = \"/mnt/colab_public/datasets/joao/mteb_results/\""
   ]
  },
  {
   "cell_type": "code",
   "execution_count": 4,
   "metadata": {},
   "outputs": [],
   "source": [
    "class embedding_model(torch.nn.Module):\n",
    "\n",
    "    def __init__(self, ):\n",
    "        super().__init__()\n",
    "\n",
    "        _model_name = \"bigcode/bigcode-encoder\"\n",
    "        self.tokenizer = prepare_tokenizer(AutoTokenizer.from_pretrained(_model_name, use_auth_token=True))\n",
    "        self.encoder = AutoModelForPreTraining.from_pretrained(_model_name, use_auth_token=True)\n",
    "    \n",
    "    def forward(self, input_sentences):\n",
    "\n",
    "        inputs = self.tokenizer([f\"{CLS_TOKEN}{sentence}{SEPARATOR_TOKEN}\" for sentence in input_sentences], return_tensors=\"pt\", padding=True)\n",
    "        outputs = self.encoder(**inputs)\n",
    "        embedding = pool_and_normalize(outputs.hidden_states[-1], inputs.attention_mask)\n",
    "\n",
    "        return embedding\n",
    "    \n",
    "    def encode(self, input_sentences, batch_size=32, **kwargs):\n",
    "\n",
    "        n_batches = len(input_sentences) // batch_size + int(len(input_sentences) % batch_size > 0)\n",
    "\n",
    "        embedding_batch_list = []\n",
    "\n",
    "        for i in range(n_batches):\n",
    "            start_idx = i*batch_size\n",
    "            end_idx = min((i+1)*batch_size, len(input_sentences))\n",
    "\n",
    "            with torch.no_grad():\n",
    "                embedding_batch_list.append(\n",
    "                    self.forward(input_sentences[start_idx:end_idx]).detach().cpu()\n",
    "                )\n",
    "\n",
    "        input_sentences_embedding = torch.cat(embedding_batch_list)\n",
    "\n",
    "        return [emb.squeeze().numpy() for emb in input_sentences_embedding]\n"
   ]
  },
  {
   "cell_type": "code",
   "execution_count": 5,
   "metadata": {},
   "outputs": [],
   "source": [
    "model = embedding_model()"
   ]
  },
  {
   "cell_type": "code",
   "execution_count": 6,
   "metadata": {},
   "outputs": [
    {
     "data": {
      "text/plain": [
       "torch.Size([2, 768])"
      ]
     },
     "execution_count": 6,
     "metadata": {},
     "output_type": "execute_result"
    }
   ],
   "source": [
    "input_sentences = [\n",
    "    \"Hello world!!\",\n",
    "    \"def my_sum(a, b): return a+b\"\n",
    "]\n",
    "\n",
    "embeddings = model(input_sentences)\n",
    "embeddings.size()"
   ]
  },
  {
   "cell_type": "code",
   "execution_count": 7,
   "metadata": {},
   "outputs": [],
   "source": [
    "embeddings_2 = model.encode(input_sentences)\n",
    "embeddings_2 = torch.cat([torch.from_numpy(el)[None, :] for el in embeddings_2])\n",
    "\n",
    "assert torch.all(embeddings == embeddings_2).item()"
   ]
  },
  {
   "cell_type": "code",
   "execution_count": null,
   "metadata": {},
   "outputs": [],
   "source": [
    "evaluation = MTEB(task_types=['Clustering', 'Retrieval'], task_categories=['s2s'])\n",
    "results = evaluation.run(model, output_folder=OUTPUT_FOLDER)"
   ]
  }
 ],
 "metadata": {
  "interpreter": {
   "hash": "ae635839a86c404533bb974203baf1bd26d9dc49bfbf145b45e9350c30045fdd"
  },
  "kernelspec": {
   "display_name": "Python 3.9.13 64-bit ('accelerate')",
   "language": "python",
   "name": "python3"
  },
  "language_info": {
   "codemirror_mode": {
    "name": "ipython",
    "version": 3
   },
   "file_extension": ".py",
   "mimetype": "text/x-python",
   "name": "python",
   "nbconvert_exporter": "python",
   "pygments_lexer": "ipython3",
   "version": "3.9.13"
  },
  "orig_nbformat": 4
 },
 "nbformat": 4,
 "nbformat_minor": 2
}
