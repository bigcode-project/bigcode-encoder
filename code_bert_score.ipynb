{
 "cells": [
  {
   "cell_type": "code",
   "execution_count": 1,
   "metadata": {},
   "outputs": [],
   "source": [
    "try:\n",
    "    import code_bert_score\n",
    "except ImportError:\n",
    "    print(\n",
    "        \"This notebook requires a fork of code_bert_score to be installed:\", \n",
    "        \"pip install git+https://github.com/joaomonteirof/code-bert-score\"\n",
    "        )\n",
    "from src import datasets_loader\n",
    "from src.constants import GFG_DATA_PATH\n",
    "import numpy as np\n",
    "from matplotlib import pyplot as plt\n"
   ]
  },
  {
   "cell_type": "code",
   "execution_count": 2,
   "metadata": {},
   "outputs": [],
   "source": [
    "DEVICE = \"cuda:0\"\n",
    "MAX_RAW_LEN = 10000"
   ]
  },
  {
   "cell_type": "code",
   "execution_count": 3,
   "metadata": {},
   "outputs": [],
   "source": [
    "def get_dataset(maximum_raw_length):\n",
    "    test_data = datasets_loader.get_dataset(  # Geeks4Geeks data\n",
    "        dataset_name=\"gfg\",\n",
    "        path_to_cache=GFG_DATA_PATH,\n",
    "        split=\"test\",\n",
    "        maximum_raw_length=maximum_raw_length,\n",
    "    )\n",
    "\n",
    "    return test_data\n",
    "\n",
    "\n",
    "def summarize_sequence(sequence):\n",
    "    def ci95(seq):\n",
    "        return 1.96 * np.std(seq) / np.sqrt(len(seq))\n",
    "\n",
    "    return f\"{100*np.mean(sequence):.2f}+-{100*ci95(sequence):.2f}\"\n",
    "\n",
    "\n",
    "def evaluate(model_path, maximum_raw_length):\n",
    "    test_data = get_dataset(maximum_raw_length)\n",
    "\n",
    "    source_entries, target_entries = [], []\n",
    "    for source, target in test_data:\n",
    "        source_entries.append(source)\n",
    "        target_entries.append(target)\n",
    "\n",
    "    return code_bert_score.score(\n",
    "        source_entries, target_entries, model_type=model_path, verbose=True\n",
    "    )"
   ]
  },
  {
   "cell_type": "code",
   "execution_count": 4,
   "metadata": {},
   "outputs": [
    {
     "name": "stderr",
     "output_type": "stream",
     "text": [
      "Loading cached shuffled indices for dataset at /mnt/home/research-BertBigCode/resources/data/transcoder_evaluation_gfg/cache-e9f62aa12abed28d.arrow\n",
      "Loading cached processed dataset at /mnt/home/research-BertBigCode/resources/data/transcoder_evaluation_gfg/cache-62c8dbaa90db85ee_*_of_00096.arrow\n",
      "Loading cached shuffled indices for dataset at /mnt/home/research-BertBigCode/resources/data/transcoder_evaluation_gfg/cache-f652c1e33d8c1a14.arrow\n"
     ]
    },
    {
     "name": "stdout",
     "output_type": "stream",
     "text": [
      "calculating scores...\n",
      "computing bert embedding.\n"
     ]
    },
    {
     "data": {
      "application/vnd.jupyter.widget-view+json": {
       "model_id": "e32a024f30be4952a6e16e8731c4924a",
       "version_major": 2,
       "version_minor": 0
      },
      "text/plain": [
       "  0%|          | 0/18 [00:00<?, ?it/s]"
      ]
     },
     "metadata": {},
     "output_type": "display_data"
    },
    {
     "name": "stdout",
     "output_type": "stream",
     "text": [
      "computing greedy matching.\n"
     ]
    },
    {
     "data": {
      "application/vnd.jupyter.widget-view+json": {
       "model_id": "42dbf72b78884676a2b84515fe025fa9",
       "version_major": 2,
       "version_minor": 0
      },
      "text/plain": [
       "  0%|          | 0/9 [00:00<?, ?it/s]"
      ]
     },
     "metadata": {},
     "output_type": "display_data"
    },
    {
     "name": "stdout",
     "output_type": "stream",
     "text": [
      "done in 8.53 seconds, 67.53 sentences/sec\n"
     ]
    }
   ],
   "source": [
    "p_starencoder, r_starencoder, f1_starencoder, f3_starencoder = evaluate(\"bigcode/starencoder\", MAX_RAW_LEN)"
   ]
  },
  {
   "cell_type": "code",
   "execution_count": 5,
   "metadata": {},
   "outputs": [
    {
     "name": "stdout",
     "output_type": "stream",
     "text": [
      "bigcode/starencoder 92.37+-0.25\n"
     ]
    }
   ],
   "source": [
    "print(\"bigcode/starencoder\", summarize_sequence(f1_starencoder.detach().cpu().numpy()))"
   ]
  },
  {
   "cell_type": "code",
   "execution_count": 6,
   "metadata": {},
   "outputs": [
    {
     "name": "stderr",
     "output_type": "stream",
     "text": [
      "Loading cached shuffled indices for dataset at /mnt/home/research-BertBigCode/resources/data/transcoder_evaluation_gfg/cache-e9f62aa12abed28d.arrow\n",
      "Loading cached processed dataset at /mnt/home/research-BertBigCode/resources/data/transcoder_evaluation_gfg/cache-62c8dbaa90db85ee_*_of_00096.arrow\n",
      "Loading cached shuffled indices for dataset at /mnt/home/research-BertBigCode/resources/data/transcoder_evaluation_gfg/cache-f652c1e33d8c1a14.arrow\n"
     ]
    },
    {
     "name": "stdout",
     "output_type": "stream",
     "text": [
      "calculating scores...\n",
      "computing bert embedding.\n"
     ]
    },
    {
     "data": {
      "application/vnd.jupyter.widget-view+json": {
       "model_id": "70c46d1d6587453894170f475921c340",
       "version_major": 2,
       "version_minor": 0
      },
      "text/plain": [
       "  0%|          | 0/18 [00:00<?, ?it/s]"
      ]
     },
     "metadata": {},
     "output_type": "display_data"
    },
    {
     "name": "stdout",
     "output_type": "stream",
     "text": [
      "computing greedy matching.\n"
     ]
    },
    {
     "data": {
      "application/vnd.jupyter.widget-view+json": {
       "model_id": "12fa80b874394e8c8e1196f9a79e02df",
       "version_major": 2,
       "version_minor": 0
      },
      "text/plain": [
       "  0%|          | 0/9 [00:00<?, ?it/s]"
      ]
     },
     "metadata": {},
     "output_type": "display_data"
    },
    {
     "name": "stdout",
     "output_type": "stream",
     "text": [
      "done in 10.57 seconds, 54.51 sentences/sec\n"
     ]
    }
   ],
   "source": [
    "p_codebert, r_codebert, f1_codebert, f3_codebert = evaluate(\"microsoft/codebert-base\", MAX_RAW_LEN)"
   ]
  },
  {
   "cell_type": "code",
   "execution_count": 7,
   "metadata": {},
   "outputs": [
    {
     "name": "stdout",
     "output_type": "stream",
     "text": [
      "microsoft/codebert-base 89.42+-0.28\n"
     ]
    }
   ],
   "source": [
    "print(\"microsoft/codebert-base\", summarize_sequence(f1_codebert.detach().cpu().numpy()))"
   ]
  },
  {
   "cell_type": "code",
   "execution_count": 8,
   "metadata": {},
   "outputs": [
    {
     "data": {
      "image/png": "[encoded data removed]",
      "text/plain": [
       "<Figure size 600x600 with 1 Axes>"
      ]
     },
     "metadata": {},
     "output_type": "display_data"
    }
   ],
   "source": [
    "fig, ax = plt.subplots(figsize=(6,6), facecolor=\"white\")\n",
    "\n",
    "ax.set_title(\"Python-Java cross-language CodeBERTScore\")\n",
    "ax.get_xaxis().set_visible(False)\n",
    "ax.set_ylabel(\"CodeBERTScore\")\n",
    "\n",
    "starencoder_ci = summarize_sequence(f1_starencoder.detach().cpu().numpy())\n",
    "codebert_ci = summarize_sequence(f1_codebert.detach().cpu().numpy())\n",
    "\n",
    "starencoder_center, starencoder_error = starencoder_ci.split(\"+-\")\n",
    "codebert_center, codebert_error = codebert_ci.split(\"+-\")\n",
    "\n",
    "plt.plot(1, float(codebert_center), color=\"blue\", label=\"codeBERT-base\")\n",
    "plt.errorbar(1, float(codebert_center), yerr=float(codebert_error), fmt ='-o', color=\"blue\", capsize=8)\n",
    "plt.plot(2, float(starencoder_center), color=\"orange\", label=\"StarEncoder\")\n",
    "plt.errorbar(2, float(starencoder_center), yerr=float(starencoder_error), fmt ='-o', color=\"orange\", capsize=8)\n",
    "\n",
    "plt.legend(loc=\"lower right\")\n",
    "plt.show()\n",
    "        "
   ]
  }
 ],
 "metadata": {
  "interpreter": {
   "hash": "ae635839a86c404533bb974203baf1bd26d9dc49bfbf145b45e9350c30045fdd"
  },
  "kernelspec": {
   "display_name": "Python 3.9.13 64-bit ('accelerate')",
   "language": "python",
   "name": "python3"
  },
  "language_info": {
   "codemirror_mode": {
    "name": "ipython",
    "version": 3
   },
   "file_extension": ".py",
   "mimetype": "text/x-python",
   "name": "python",
   "nbconvert_exporter": "python",
   "pygments_lexer": "ipython3",
   "version": "3.10.9"
  },
  "orig_nbformat": 4
 },
 "nbformat": 4,
 "nbformat_minor": 2
}
